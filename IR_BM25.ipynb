{
  "cells": [
    {
      "cell_type": "code",
      "execution_count": null,
      "metadata": {
        "colab": {
          "base_uri": "https://localhost:8080/"
        },
        "id": "U0r_WeBF53Iz",
        "outputId": "549479b4-4038-4489-de9c-7aced88479f8"
      },
      "outputs": [
        {
          "name": "stdout",
          "output_type": "stream",
          "text": [
            "Looking in indexes: https://pypi.org/simple, https://us-python.pkg.dev/colab-wheels/public/simple/\n",
            "Collecting rank_bm25\n",
            "  Downloading rank_bm25-0.2.2-py3-none-any.whl (8.6 kB)\n",
            "Requirement already satisfied: numpy in /usr/local/lib/python3.8/dist-packages (from rank_bm25) (1.21.6)\n",
            "Installing collected packages: rank_bm25\n",
            "Successfully installed rank_bm25-0.2.2\n"
          ]
        }
      ],
      "source": [
        "!pip install rank_bm25\n"
      ]
    },
    {
      "cell_type": "code",
      "execution_count": 22,
      "metadata": {
        "id": "6BfxdQtt57dd"
      },
      "outputs": [],
      "source": [
        "import pandas as pd\n",
        "import csv\n",
        "import spacy\n",
        "from rank_bm25 import BM25Okapi\n",
        "from tqdm import tqdm\n",
        "import time\n",
        "nlp = spacy.load(\"en_core_web_sm\")\n"
      ]
    },
    {
      "cell_type": "code",
      "execution_count": 38,
      "metadata": {
        "id": "0DLkTG3q6Gor"
      },
      "outputs": [],
      "source": [
        "df=pd.read_csv('titles.csv')"
      ]
    },
    {
      "cell_type": "code",
      "execution_count": 78,
      "metadata": {
        "id": "tOR4LH1SEFJz"
      },
      "outputs": [],
      "source": [
        "df['description']= df['description'].astype(str)\n",
        "\n",
        "df['search_text']=df['release_year']+' '+df['type']+' '+ df['title']+' '+df['description']"
      ]
    },
    {
      "cell_type": "code",
      "execution_count": 79,
      "metadata": {
        "colab": {
          "base_uri": "https://localhost:8080/"
        },
        "id": "NxTXLC2Y5_pa",
        "outputId": "655b4752-86c3-4537-869d-a839ecae424a"
      },
      "outputs": [
        {
          "name": "stderr",
          "output_type": "stream",
          "text": [
            "0it [00:00, ?it/s]/usr/local/lib/python3.8/dist-packages/spacy/pipeline/lemmatizer.py:211: UserWarning: [W108] The rule-based lemmatizer did not find POS annotation for one or more tokens. Check that your pipeline includes components that assign token.pos, typically 'tagger'+'attribute_ruler' or 'morphologizer'.\n",
            "  warnings.warn(Warnings.W108)\n",
            "5850it [00:11, 494.58it/s]\n"
          ]
        }
      ],
      "source": [
        "\n",
        "text_list = df.search_text.str.lower().values\n",
        "tok_text=[] # for our tokenised corpus\n",
        "#Tokenising using SpaCy:\n",
        "for doc in tqdm(nlp.pipe(text_list, disable=[\"tagger\", \"parser\",\"ner\"])):\n",
        "   tok = [t.text for t in doc if t.is_alpha]\n",
        "   tok_text.append(tok)"
      ]
    },
    {
      "cell_type": "code",
      "execution_count": 80,
      "metadata": {
        "id": "fUcOSW45-Kh2"
      },
      "outputs": [],
      "source": [
        "bm25 = BM25Okapi(tok_text)"
      ]
    },
    {
      "cell_type": "code",
      "execution_count": 87,
      "metadata": {
        "colab": {
          "base_uri": "https://localhost:8080/"
        },
        "id": "YneyM9y7-NO6",
        "outputId": "4b5f93b5-95e7-41f9-ae2b-4063e55fc599"
      },
      "outputs": [
        {
          "name": "stdout",
          "output_type": "stream",
          "text": [
            "Enter text : death\n",
            "Searched 5851 records in 0.004 seconds \n",
            "\n",
            "2021 SHOW Surviving Death What happens after we die? This docuseries explores personal stories and research on near-death experiences, reincarnation and paranormal phenomena.\n",
            "\n",
            "2006 SHOW DEATH NOTE Light Yagami is an ace student with great prospects—and he’s bored out of his mind. But all that changes when he finds the Death Note, a notebook dropped by a rogue Shinigami death god. Any human whose name is written in the notebook dies, and Light has vowed to use the power of the Death Note to rid the world of evil. But will Light succeed in his noble goal, or will the Death Note turn him into the very thing he fights against?\n",
            "\n",
            "2017 SHOW Black A Grim Reaper, a detective and a woman who foresees death get ensnared in matters of life and death -- and dark mysteries of twenty years past.\n",
            "\n",
            "2018 MOVIE Brij Mohan Amar Rahe! Faking his death to escape the realities of his uneventful life worked out well for Brij Mohan -- until he was sentenced to death for his own murder.\n",
            "\n",
            "2017 SHOW Cold Case Files Tense new series exploring cold cases from victims death to criminal convictions.\n",
            "\n",
            "Want to search more , Press 1 else press any number to end your search\n",
            "1\n",
            "Enter text : bheem\n",
            "Searched 5851 records in 0.003 seconds \n",
            "\n",
            "2012 MOVIE Chhota Bheem and the Broken Amulet Chhota Bheem And The Broken Amulet is an Indian animated movie featuring Bheem, the star of the Chhota Bheem series.\n",
            "\n",
            "2013 MOVIE Chhota Bheem & Krishna vs Zimbara Chhota Bheem Aur Krishna vs Zimbara is an Indian animated movie featuring Bheem, the star of the Chhota Bheem series. It is the 19th movie of the series. Running Time - 65 mins.\n",
            "\n",
            "2014 MOVIE Chhota Bheem Dus pe Dus In Kerala, Bheem suffers a humiliating defeat- not only is a rare temple stone is stolen under his watch, but the thief easily defeats Bheem and slips away.\n",
            "\n",
            "2008 SHOW Chhota Bheem Chhota Bheem is an Indian animated series adventures about a boy named Bheem and his friends in fictional village of Dholakpur.Bheem and his friends are usually involved in protecting the village from various evil forces.\n",
            "\n",
            "2012 MOVIE Chhota Bheem In Dholakpur to Kathmandu Bheem and his friends are invited to spend their vacations in Kathmandu.Their trip is not without mishap, as a young ape is separated from its father. Bheem defeats the jaguars, and unites the ape with its father.\n",
            "\n",
            "Want to search more , Press 1 else press any number to end your search\n",
            "1\n",
            "Enter text : Premonition\n",
            "Searched 5851 records in 0.004 seconds \n",
            "\n",
            "2007 MOVIE Premonition A depressed housewife who learns her husband was killed in a car accident the day previously, awakens the next morning to find him alive and well at home, and then awakens the day after to a world in which he is still dead.\n",
            "\n",
            "2021 SHOW Mighty Little Bheem: Kite Festival With winter behind them, Bheem and his townspeople usher in a sunny new season in all their favorite ways during the Makar Sankranti festival.\n",
            "\n",
            "2018 MOVIE The Other Side of the Wind Surrounded by fans and skeptics, grizzled director J.J. \"Jake\" Hannaford returns from years abroad in Europe to a changed Hollywood, where he attempts to make his innovative comeback film.  This film was started in 1970 but never completed during Welles lifetime.\n",
            "\n",
            "2017 SHOW Abstract: The Art of Design Step inside the minds of the most innovative designers in a variety of disciplines and learn how design impacts every aspect of life.\n",
            "\n",
            "2018 MOVIE A Futile and Stupid Gesture The National Lampoon name became globally recognized after the monumental success of Animal House—but before the glory days, it was a scrappy yet divinely subversive magazine and radio show that introduced the world to comedic geniuses like Bill Murray, Chevy Chase, John Belushi, and Gilda Radner. The driving force behind National Lampoon was Doug Kenney, and his truly wild and crazy story unfolds in A Futile and Stupid Gesture from Harvard to Hollywood to Caddyshack and beyond.\n",
            "\n",
            "Want to search more , Press 1 else press any number to end your search\n",
            "0\n",
            "Search Complete !!\n"
          ]
        }
      ],
      "source": [
        "flag=True\n",
        "while (flag==True):\n",
        "  query = input(\"Enter text : \")\n",
        "  tokenized_query = query.lower().split(\" \")\n",
        "\n",
        "  t0 = time.time()\n",
        "  results = bm25.get_top_n(tokenized_query, df.search_text.values, n=5)\n",
        "  t1 = time.time()\n",
        "  print(f'Searched 5851 records in {round(t1-t0,3) } seconds \\n')\n",
        "\n",
        "  for i in results:\n",
        "    print(i+\"\\n\")\n",
        "  \n",
        "  print(\"Want to search more , Press 1 else press any number to end your search\")\n",
        "  n=int(input())\n",
        "  if(n!=1):\n",
        "    flag=False\n",
        "    \n",
        "\n",
        "print(\"Search Complete !!\")\n",
        " "
      ]
    },
    {
      "cell_type": "code",
      "execution_count": null,
      "metadata": {
        "id": "0fGU6JFJMeN8"
      },
      "outputs": [],
      "source": []
    }
  ],
  "metadata": {
    "colab": {
      "provenance": []
    },
    "kernelspec": {
      "display_name": "Python 3",
      "language": "python",
      "name": "python3"
    },
    "language_info": {
      "name": "python",
      "version": "3.9.5"
    },
    "vscode": {
      "interpreter": {
        "hash": "21f4444d39ab6b5693d4d849cfa70bb416088160443a1fd59a7ab489e549d463"
      }
    }
  },
  "nbformat": 4,
  "nbformat_minor": 0
}
