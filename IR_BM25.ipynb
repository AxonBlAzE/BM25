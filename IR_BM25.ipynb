{
  "cells": [
    {
      "cell_type": "code",
      "execution_count": 2,
      "metadata": {
        "colab": {
          "base_uri": "https://localhost:8080/"
        },
        "id": "U0r_WeBF53Iz",
        "outputId": "bfcd8b17-7e1f-48bf-cec8-2e9e0972e91d"
      },
      "outputs": [
        {
          "name": "stdout",
          "output_type": "stream",
          "text": [
            "Looking in indexes: https://pypi.org/simple, https://us-python.pkg.dev/colab-wheels/public/simple/\n",
            "Collecting rank_bm25\n",
            "  Downloading rank_bm25-0.2.2-py3-none-any.whl (8.6 kB)\n",
            "Requirement already satisfied: numpy in /usr/local/lib/python3.8/dist-packages (from rank_bm25) (1.22.4)\n",
            "Installing collected packages: rank_bm25\n",
            "Successfully installed rank_bm25-0.2.2\n"
          ]
        }
      ],
      "source": [
        "!pip install rank_bm25\n"
      ]
    },
    {
      "cell_type": "code",
      "execution_count": 55,
      "metadata": {
        "colab": {
          "base_uri": "https://localhost:8080/"
        },
        "id": "kQaQ7qjUklkl",
        "outputId": "53469a1d-48a0-45b3-9b38-1d29ed10036b"
      },
      "outputs": [
        {
          "name": "stdout",
          "output_type": "stream",
          "text": [
            "Looking in indexes: https://pypi.org/simple, https://us-python.pkg.dev/colab-wheels/public/simple/\n",
            "Requirement already satisfied: import-ipynb in /usr/local/lib/python3.8/dist-packages (0.1.4)\n",
            "Requirement already satisfied: IPython in /usr/local/lib/python3.8/dist-packages (from import-ipynb) (7.9.0)\n",
            "Requirement already satisfied: nbformat in /usr/local/lib/python3.8/dist-packages (from import-ipynb) (5.7.3)\n",
            "Requirement already satisfied: setuptools>=18.5 in /usr/local/lib/python3.8/dist-packages (from IPython->import-ipynb) (57.4.0)\n",
            "Requirement already satisfied: pickleshare in /usr/local/lib/python3.8/dist-packages (from IPython->import-ipynb) (0.7.5)\n",
            "Requirement already satisfied: pexpect in /usr/local/lib/python3.8/dist-packages (from IPython->import-ipynb) (4.8.0)\n",
            "Requirement already satisfied: decorator in /usr/local/lib/python3.8/dist-packages (from IPython->import-ipynb) (4.4.2)\n",
            "Requirement already satisfied: prompt-toolkit<2.1.0,>=2.0.0 in /usr/local/lib/python3.8/dist-packages (from IPython->import-ipynb) (2.0.10)\n",
            "Requirement already satisfied: pygments in /usr/local/lib/python3.8/dist-packages (from IPython->import-ipynb) (2.6.1)\n",
            "Requirement already satisfied: backcall in /usr/local/lib/python3.8/dist-packages (from IPython->import-ipynb) (0.2.0)\n",
            "Requirement already satisfied: jedi>=0.10 in /usr/local/lib/python3.8/dist-packages (from IPython->import-ipynb) (0.18.2)\n",
            "Requirement already satisfied: traitlets>=4.2 in /usr/local/lib/python3.8/dist-packages (from IPython->import-ipynb) (5.7.1)\n",
            "Requirement already satisfied: jsonschema>=2.6 in /usr/local/lib/python3.8/dist-packages (from nbformat->import-ipynb) (4.3.3)\n",
            "Requirement already satisfied: fastjsonschema in /usr/local/lib/python3.8/dist-packages (from nbformat->import-ipynb) (2.16.2)\n",
            "Requirement already satisfied: jupyter-core in /usr/local/lib/python3.8/dist-packages (from nbformat->import-ipynb) (5.2.0)\n",
            "Requirement already satisfied: parso<0.9.0,>=0.8.0 in /usr/local/lib/python3.8/dist-packages (from jedi>=0.10->IPython->import-ipynb) (0.8.3)\n",
            "Requirement already satisfied: importlib-resources>=1.4.0 in /usr/local/lib/python3.8/dist-packages (from jsonschema>=2.6->nbformat->import-ipynb) (5.12.0)\n",
            "Requirement already satisfied: pyrsistent!=0.17.0,!=0.17.1,!=0.17.2,>=0.14.0 in /usr/local/lib/python3.8/dist-packages (from jsonschema>=2.6->nbformat->import-ipynb) (0.19.3)\n",
            "Requirement already satisfied: attrs>=17.4.0 in /usr/local/lib/python3.8/dist-packages (from jsonschema>=2.6->nbformat->import-ipynb) (22.2.0)\n",
            "Requirement already satisfied: wcwidth in /usr/local/lib/python3.8/dist-packages (from prompt-toolkit<2.1.0,>=2.0.0->IPython->import-ipynb) (0.2.6)\n",
            "Requirement already satisfied: six>=1.9.0 in /usr/local/lib/python3.8/dist-packages (from prompt-toolkit<2.1.0,>=2.0.0->IPython->import-ipynb) (1.15.0)\n",
            "Requirement already satisfied: platformdirs>=2.5 in /usr/local/lib/python3.8/dist-packages (from jupyter-core->nbformat->import-ipynb) (3.0.0)\n",
            "Requirement already satisfied: ptyprocess>=0.5 in /usr/local/lib/python3.8/dist-packages (from pexpect->IPython->import-ipynb) (0.7.0)\n",
            "Requirement already satisfied: zipp>=3.1.0 in /usr/local/lib/python3.8/dist-packages (from importlib-resources>=1.4.0->jsonschema>=2.6->nbformat->import-ipynb) (3.14.0)\n"
          ]
        }
      ],
      "source": [
        "pip install import-ipynb\n"
      ]
    },
    {
      "cell_type": "code",
      "execution_count": 57,
      "metadata": {
        "id": "6BfxdQtt57dd"
      },
      "outputs": [],
      "source": [
        "import pandas as pd\n",
        "import csv\n",
        "import spacy\n",
        "# from rank_bm25 import BM25Okapi\n",
        "from tqdm import tqdm\n",
        "import time\n",
        "import import_ipynb\n",
        "import OkapiBM25 \n",
        "\n",
        "\n",
        "nlp = spacy.load(\"en_core_web_sm\")\n"
      ]
    },
    {
      "cell_type": "code",
      "execution_count": 58,
      "metadata": {
        "id": "0DLkTG3q6Gor"
      },
      "outputs": [],
      "source": [
        "df=pd.read_csv('titles.csv')"
      ]
    },
    {
      "cell_type": "code",
      "execution_count": 59,
      "metadata": {
        "id": "tOR4LH1SEFJz"
      },
      "outputs": [],
      "source": [
        "df['description']= df['description'].astype(str)\n",
        "\n",
        "df['search_text']=df['release_year'].astype(str)+' '+df['type'].astype(str)+' '+ df['title'].astype(str)+' '+df['description']"
      ]
    },
    {
      "cell_type": "code",
      "execution_count": 60,
      "metadata": {
        "colab": {
          "base_uri": "https://localhost:8080/"
        },
        "id": "NxTXLC2Y5_pa",
        "outputId": "e2f9e58a-202c-4d6b-e71c-a0fdcab72f98"
      },
      "outputs": [
        {
          "name": "stderr",
          "output_type": "stream",
          "text": [
            "5850it [00:17, 341.81it/s]\n"
          ]
        }
      ],
      "source": [
        "\n",
        "text_list = df.search_text.str.lower().values\n",
        "tok_text=[] # for our tokenised corpus\n",
        "#Tokenising using SpaCy:\n",
        "for doc in tqdm(nlp.pipe(text_list, disable=[\"tagger\", \"parser\",\"ner\"])):\n",
        "   tok = [t.text for t in doc if t.is_alpha]\n",
        "   tok_text.append(tok)"
      ]
    },
    {
      "cell_type": "code",
      "execution_count": 62,
      "metadata": {
        "id": "fleI9bqjhAPM"
      },
      "outputs": [],
      "source": [
        "bm25 = BM25Okapi(tok_text)"
      ]
    },
    {
      "cell_type": "code",
      "execution_count": 63,
      "metadata": {
        "colab": {
          "base_uri": "https://localhost:8080/"
        },
        "id": "jxeKIrZGhHH_",
        "outputId": "d5d3ca24-c88b-4281-b007-fd29e29df82c"
      },
      "outputs": [
        {
          "name": "stdout",
          "output_type": "stream",
          "text": [
            "Enter text : horror\n",
            "Searched 5851 records in 0.004 seconds \n",
            "\n",
            "2020 MOVIE Ghost Stories An anthology of four short horror tales.\n",
            "\n",
            "1995 SHOW Goosebumps Anything can turn spooky in this horror anthology series based on the best-selling books by master of kid horror, R.L. Stine. In every episode, see what happens when regular kids find themselves in scary situations, and how they work to confront and overcome their fears.\n",
            "\n",
            "2020 SHOW Bloodride The doomed passengers aboard a spectral bus head toward a gruesome, unknown destination in this deliciously macabre horror anthology series.\n",
            "\n",
            "2011 MOVIE Ragini MMS Out to relax and have fun at a farmhouse, a couple experience horror at the hands of an unknown entity\n",
            "\n",
            "2020 SHOW The Possessed When night falls on the city, shadows and spirits come alive in this horror anthology series centered on urban legends.\n",
            "\n",
            "Want to search more , Press 1 else press any number to end your search\n",
            "1\n",
            "Enter text : romantic comedy\n",
            "Searched 5851 records in 0.007 seconds \n",
            "\n",
            "2018 MOVIE Disconnect A romantic comedy that brings out the intricacies and absurdities of the Nairobi dating scene.\n",
            "\n",
            "2016 SHOW Bibik Bibikku Romantic comedy drama about Dr. Hanafi family living in the city and the ills of their maids who come from all over the country.\n",
            "\n",
            "2022 MOVIE F*ck Love Too In this romantic comedy, several friends, each dealing with unhappy love lives, turn to each other for help - but not always with the best results.\n",
            "\n",
            "2021 MOVIE 1000 Miles from Christmas A Christmas tale, a romantic comedy and the story of a man in his 30s who learns reluctantly to get carried away by the Christmas spirit.\n",
            "\n",
            "2020 SHOW The Baker and the Beauty A blue-collar baker strikes up a relationship with an international superstar. US version of the Israeli romantic comedy series 'The Baker and the Beauty'.\n",
            "\n",
            "Want to search more , Press 1 else press any number to end your search\n",
            "1\n",
            "Enter text : cricket\n",
            "Searched 5851 records in 0.004 seconds \n",
            "\n",
            "2019 SHOW Cricket Fever: Mumbai Indians Follow Indian Premier League champions Mumbai Indians through the 2018 season in this series featuring insider insights and intense cricket action.\n",
            "\n",
            "2019 MOVIE The Zoya Factor An advertising agency executive Zoya Singh Solanki meets the Indian cricket team and ends up becoming their lucky charm at the 2011 Cricket World Cup.\n",
            "\n",
            "2018 SHOW Selection Day Two teen cricket prodigies struggle against their overbearing father and a system stacked against them to realize their own ambitions and identities.\n",
            "\n",
            "2001 MOVIE Lagaan: Once Upon a Time in India In 1890s India, an arrogant British commander challenges the harshly taxed residents of Champaner to a high-stakes cricket match.\n",
            "\n",
            "2020 MOVIE Torbaaz At an Afghanistan refugee camp, an ex-army doctor seeks to bring children joy through cricket and soon realizes that the stakes go beyond the sport.\n",
            "\n",
            "Want to search more , Press 1 else press any number to end your search\n",
            "0\n",
            "Search Complete !!\n"
          ]
        }
      ],
      "source": [
        "flag=True\n",
        "while (flag==True):\n",
        "  query = input(\"Enter text : \")\n",
        "  tokenized_query = query.lower().split(\" \")\n",
        "\n",
        "  t0 = time.time()\n",
        "  results = bm25.get_top_n(tokenized_query, df.search_text.values, n=5)\n",
        "  t1 = time.time()\n",
        "  print(f'Searched 5851 records in {round(t1-t0,3) } seconds \\n')\n",
        "\n",
        "  for i in results:\n",
        "    print(i+\"\\n\")\n",
        "  \n",
        "  print(\"Want to search more , Press 1 else press any number to end your search\")\n",
        "  n=int(input())\n",
        "  if(n!=1):\n",
        "    flag=False\n",
        "    \n",
        "\n",
        "print(\"Search Complete !!\")"
      ]
    },
    {
      "cell_type": "code",
      "execution_count": 64,
      "metadata": {
        "id": "fUcOSW45-Kh2"
      },
      "outputs": [],
      "source": [
        "# bm25 = BM25Okapi(tok_text)"
      ]
    },
    {
      "cell_type": "code",
      "execution_count": 65,
      "metadata": {
        "id": "YneyM9y7-NO6"
      },
      "outputs": [],
      "source": [
        "# flag=True\n",
        "# while (flag==True):\n",
        "#   query = input(\"Enter text : \")\n",
        "#   tokenized_query = query.lower().split(\" \")\n",
        "\n",
        "#   t0 = time.time()\n",
        "#   results = bm25.get_top_n(tokenized_query, df.search_text.values, n=5)\n",
        "#   t1 = time.time()\n",
        "#   print(f'Searched 5851 records in {round(t1-t0,3) } seconds \\n')\n",
        "\n",
        "#   for i in results:\n",
        "#     print(i+\"\\n\")\n",
        "  \n",
        "#   print(\"Want to search more , Press 1 else press any number to end your search\")\n",
        "#   n=int(input())\n",
        "#   if(n!=1):\n",
        "#     flag=False\n",
        "    \n",
        "\n",
        "# print(\"Search Complete !!\")\n",
        " "
      ]
    }
  ],
  "metadata": {
    "colab": {
      "provenance": []
    },
    "kernelspec": {
      "display_name": "Python 3",
      "language": "python",
      "name": "python3"
    },
    "language_info": {
      "name": "python",
      "version": "3.9.5"
    },
    "vscode": {
      "interpreter": {
        "hash": "21f4444d39ab6b5693d4d849cfa70bb416088160443a1fd59a7ab489e549d463"
      }
    }
  },
  "nbformat": 4,
  "nbformat_minor": 0
}
